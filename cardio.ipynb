{
 "cells": [
  {
   "cell_type": "code",
   "execution_count": 302,
   "metadata": {},
   "outputs": [],
   "source": [
    "import pandas as pd"
   ]
  },
  {
   "cell_type": "code",
   "execution_count": 303,
   "metadata": {},
   "outputs": [
    {
     "data": {
      "text/html": [
       "<div>\n",
       "<style scoped>\n",
       "    .dataframe tbody tr th:only-of-type {\n",
       "        vertical-align: middle;\n",
       "    }\n",
       "\n",
       "    .dataframe tbody tr th {\n",
       "        vertical-align: top;\n",
       "    }\n",
       "\n",
       "    .dataframe thead th {\n",
       "        text-align: right;\n",
       "    }\n",
       "</style>\n",
       "<table border=\"1\" class=\"dataframe\">\n",
       "  <thead>\n",
       "    <tr style=\"text-align: right;\">\n",
       "      <th></th>\n",
       "      <th>Gender</th>\n",
       "      <th>Chain_smoker</th>\n",
       "      <th>Consumes_other_tobacco_products</th>\n",
       "      <th>HighBP</th>\n",
       "      <th>Obese</th>\n",
       "      <th>Diabetes</th>\n",
       "      <th>Metabolic_syndrome</th>\n",
       "      <th>Use_of_stimulant_drugs</th>\n",
       "      <th>Family_history</th>\n",
       "      <th>History_of_preeclampsia</th>\n",
       "      <th>CABG_history</th>\n",
       "      <th>Respiratory_illness</th>\n",
       "      <th>UnderRisk</th>\n",
       "    </tr>\n",
       "  </thead>\n",
       "  <tbody>\n",
       "    <tr>\n",
       "      <th>0</th>\n",
       "      <td>1</td>\n",
       "      <td>1</td>\n",
       "      <td>1</td>\n",
       "      <td>0</td>\n",
       "      <td>1</td>\n",
       "      <td>0</td>\n",
       "      <td>0</td>\n",
       "      <td>0</td>\n",
       "      <td>1</td>\n",
       "      <td>0</td>\n",
       "      <td>0</td>\n",
       "      <td>0</td>\n",
       "      <td>no</td>\n",
       "    </tr>\n",
       "    <tr>\n",
       "      <th>1</th>\n",
       "      <td>1</td>\n",
       "      <td>0</td>\n",
       "      <td>1</td>\n",
       "      <td>0</td>\n",
       "      <td>1</td>\n",
       "      <td>0</td>\n",
       "      <td>0</td>\n",
       "      <td>0</td>\n",
       "      <td>1</td>\n",
       "      <td>0</td>\n",
       "      <td>0</td>\n",
       "      <td>0</td>\n",
       "      <td>no</td>\n",
       "    </tr>\n",
       "    <tr>\n",
       "      <th>2</th>\n",
       "      <td>1</td>\n",
       "      <td>0</td>\n",
       "      <td>1</td>\n",
       "      <td>0</td>\n",
       "      <td>1</td>\n",
       "      <td>0</td>\n",
       "      <td>0</td>\n",
       "      <td>0</td>\n",
       "      <td>1</td>\n",
       "      <td>0</td>\n",
       "      <td>0</td>\n",
       "      <td>0</td>\n",
       "      <td>no</td>\n",
       "    </tr>\n",
       "    <tr>\n",
       "      <th>3</th>\n",
       "      <td>1</td>\n",
       "      <td>0</td>\n",
       "      <td>1</td>\n",
       "      <td>0</td>\n",
       "      <td>1</td>\n",
       "      <td>0</td>\n",
       "      <td>0</td>\n",
       "      <td>0</td>\n",
       "      <td>1</td>\n",
       "      <td>0</td>\n",
       "      <td>0</td>\n",
       "      <td>0</td>\n",
       "      <td>no</td>\n",
       "    </tr>\n",
       "    <tr>\n",
       "      <th>4</th>\n",
       "      <td>1</td>\n",
       "      <td>0</td>\n",
       "      <td>0</td>\n",
       "      <td>0</td>\n",
       "      <td>0</td>\n",
       "      <td>0</td>\n",
       "      <td>1</td>\n",
       "      <td>1</td>\n",
       "      <td>0</td>\n",
       "      <td>0</td>\n",
       "      <td>0</td>\n",
       "      <td>0</td>\n",
       "      <td>no</td>\n",
       "    </tr>\n",
       "  </tbody>\n",
       "</table>\n",
       "</div>"
      ],
      "text/plain": [
       "   Gender  Chain_smoker  ...  Respiratory_illness  UnderRisk\n",
       "0       1             1  ...                    0         no\n",
       "1       1             0  ...                    0         no\n",
       "2       1             0  ...                    0         no\n",
       "3       1             0  ...                    0         no\n",
       "4       1             0  ...                    0         no\n",
       "\n",
       "[5 rows x 13 columns]"
      ]
     },
     "execution_count": 303,
     "metadata": {},
     "output_type": "execute_result"
    }
   ],
   "source": [
    "cardiac_df = pd.read_csv('train.csv')\n",
    "cardiac_df.head()"
   ]
  },
  {
   "cell_type": "code",
   "execution_count": 304,
   "metadata": {},
   "outputs": [
    {
     "data": {
      "text/plain": [
       "no     699\n",
       "yes    190\n",
       "Name: UnderRisk, dtype: int64"
      ]
     },
     "execution_count": 304,
     "metadata": {},
     "output_type": "execute_result"
    }
   ],
   "source": [
    "cardiac_df.UnderRisk.value_counts()"
   ]
  },
  {
   "cell_type": "code",
   "execution_count": 305,
   "metadata": {},
   "outputs": [
    {
     "data": {
      "text/plain": [
       "Gender                             0\n",
       "Chain_smoker                       0\n",
       "Consumes_other_tobacco_products    0\n",
       "HighBP                             0\n",
       "Obese                              0\n",
       "Diabetes                           0\n",
       "Metabolic_syndrome                 0\n",
       "Use_of_stimulant_drugs             0\n",
       "Family_history                     0\n",
       "History_of_preeclampsia            0\n",
       "CABG_history                       0\n",
       "Respiratory_illness                0\n",
       "UnderRisk                          0\n",
       "dtype: int64"
      ]
     },
     "execution_count": 305,
     "metadata": {},
     "output_type": "execute_result"
    }
   ],
   "source": [
    "cardiac_df.isnull().sum()"
   ]
  },
  {
   "cell_type": "code",
   "execution_count": 306,
   "metadata": {},
   "outputs": [],
   "source": [
    "X = cardiac_df.drop('UnderRisk',axis=1)\n",
    "y = cardiac_df.UnderRisk"
   ]
  },
  {
   "cell_type": "code",
   "execution_count": 307,
   "metadata": {},
   "outputs": [],
   "source": [
    "def func(df):\n",
    "    if df =='no':\n",
    "        return 0\n",
    "    else:\n",
    "        return 1\n",
    "y = y.apply(func)"
   ]
  },
  {
   "cell_type": "code",
   "execution_count": 308,
   "metadata": {},
   "outputs": [],
   "source": [
    "from sklearn.model_selection import train_test_split\n",
    "X_train,X_test,y_train,y_test = train_test_split(X,y,test_size=0.1)"
   ]
  },
  {
   "cell_type": "code",
   "execution_count": 309,
   "metadata": {},
   "outputs": [],
   "source": [
    "from imblearn.under_sampling import RandomUnderSampler\n",
    "smote = RandomUnderSampler()\n",
    "x_smote, y_smote = smote.fit_resample(X_train, y_train)"
   ]
  },
  {
   "cell_type": "code",
   "execution_count": 311,
   "metadata": {},
   "outputs": [
    {
     "name": "stdout",
     "output_type": "stream",
     "text": [
      "Epoch 1/50\n",
      "11/11 [==============================] - 1s 796us/step - loss: 0.6961 - accuracy: 0.5000\n",
      "Epoch 2/50\n",
      "11/11 [==============================] - 0s 1ms/step - loss: 0.6875 - accuracy: 0.5327\n",
      "Epoch 3/50\n",
      "11/11 [==============================] - 0s 2ms/step - loss: 0.6811 - accuracy: 0.5714\n",
      "Epoch 4/50\n",
      "11/11 [==============================] - 0s 2ms/step - loss: 0.6668 - accuracy: 0.5714\n",
      "Epoch 5/50\n",
      "11/11 [==============================] - 0s 2ms/step - loss: 0.6340 - accuracy: 0.6815\n",
      "Epoch 6/50\n",
      "11/11 [==============================] - 0s 2ms/step - loss: 0.6067 - accuracy: 0.6577\n",
      "Epoch 7/50\n",
      "11/11 [==============================] - 0s 2ms/step - loss: 0.5859 - accuracy: 0.6964\n",
      "Epoch 8/50\n",
      "11/11 [==============================] - 0s 2ms/step - loss: 0.5792 - accuracy: 0.6964\n",
      "Epoch 9/50\n",
      "11/11 [==============================] - 0s 2ms/step - loss: 0.5709 - accuracy: 0.6964\n",
      "Epoch 10/50\n",
      "11/11 [==============================] - 0s 2ms/step - loss: 0.5682 - accuracy: 0.7054\n",
      "Epoch 11/50\n",
      "11/11 [==============================] - 0s 2ms/step - loss: 0.5611 - accuracy: 0.7083\n",
      "Epoch 12/50\n",
      "11/11 [==============================] - 0s 2ms/step - loss: 0.5757 - accuracy: 0.7024\n",
      "Epoch 13/50\n",
      "11/11 [==============================] - 0s 2ms/step - loss: 0.5802 - accuracy: 0.6667\n",
      "Epoch 14/50\n",
      "11/11 [==============================] - 0s 2ms/step - loss: 0.5615 - accuracy: 0.7143\n",
      "Epoch 15/50\n",
      "11/11 [==============================] - 0s 2ms/step - loss: 0.5550 - accuracy: 0.7143\n",
      "Epoch 16/50\n",
      "11/11 [==============================] - 0s 2ms/step - loss: 0.5550 - accuracy: 0.7173\n",
      "Epoch 17/50\n",
      "11/11 [==============================] - ETA: 0s - loss: 0.6432 - accuracy: 0.62 - 0s 2ms/step - loss: 0.5569 - accuracy: 0.7113\n",
      "Epoch 18/50\n",
      "11/11 [==============================] - 0s 2ms/step - loss: 0.5488 - accuracy: 0.7202\n",
      "Epoch 19/50\n",
      "11/11 [==============================] - 0s 2ms/step - loss: 0.5494 - accuracy: 0.7173\n",
      "Epoch 20/50\n",
      "11/11 [==============================] - 0s 2ms/step - loss: 0.5495 - accuracy: 0.7173\n",
      "Epoch 21/50\n",
      "11/11 [==============================] - 0s 2ms/step - loss: 0.5513 - accuracy: 0.7113\n",
      "Epoch 22/50\n",
      "11/11 [==============================] - 0s 2ms/step - loss: 0.5514 - accuracy: 0.7143\n",
      "Epoch 23/50\n",
      "11/11 [==============================] - 0s 2ms/step - loss: 0.5475 - accuracy: 0.7202\n",
      "Epoch 24/50\n",
      "11/11 [==============================] - 0s 2ms/step - loss: 0.5448 - accuracy: 0.7202\n",
      "Epoch 25/50\n",
      "11/11 [==============================] - 0s 2ms/step - loss: 0.5448 - accuracy: 0.7173\n",
      "Epoch 26/50\n",
      "11/11 [==============================] - 0s 2ms/step - loss: 0.5476 - accuracy: 0.7262\n",
      "Epoch 27/50\n",
      "11/11 [==============================] - 0s 2ms/step - loss: 0.5516 - accuracy: 0.7202\n",
      "Epoch 28/50\n",
      "11/11 [==============================] - 0s 2ms/step - loss: 0.5425 - accuracy: 0.7232\n",
      "Epoch 29/50\n",
      "11/11 [==============================] - 0s 2ms/step - loss: 0.5417 - accuracy: 0.7202\n",
      "Epoch 30/50\n",
      "11/11 [==============================] - 0s 2ms/step - loss: 0.5406 - accuracy: 0.7202\n",
      "Epoch 31/50\n",
      "11/11 [==============================] - 0s 2ms/step - loss: 0.5430 - accuracy: 0.7113\n",
      "Epoch 32/50\n",
      "11/11 [==============================] - 0s 2ms/step - loss: 0.5415 - accuracy: 0.7202\n",
      "Epoch 33/50\n",
      "11/11 [==============================] - 0s 2ms/step - loss: 0.5374 - accuracy: 0.7202\n",
      "Epoch 34/50\n",
      "11/11 [==============================] - 0s 2ms/step - loss: 0.5461 - accuracy: 0.7202\n",
      "Epoch 35/50\n",
      "11/11 [==============================] - 0s 2ms/step - loss: 0.5340 - accuracy: 0.7202\n",
      "Epoch 36/50\n",
      "11/11 [==============================] - 0s 2ms/step - loss: 0.5358 - accuracy: 0.7202\n",
      "Epoch 37/50\n",
      "11/11 [==============================] - 0s 2ms/step - loss: 0.5333 - accuracy: 0.7292\n",
      "Epoch 38/50\n",
      "11/11 [==============================] - 0s 2ms/step - loss: 0.5324 - accuracy: 0.7202\n",
      "Epoch 39/50\n",
      "11/11 [==============================] - 0s 2ms/step - loss: 0.5307 - accuracy: 0.7351\n",
      "Epoch 40/50\n",
      "11/11 [==============================] - 0s 2ms/step - loss: 0.5408 - accuracy: 0.7232\n",
      "Epoch 41/50\n",
      "11/11 [==============================] - 0s 2ms/step - loss: 0.5479 - accuracy: 0.7202\n",
      "Epoch 42/50\n",
      "11/11 [==============================] - 0s 2ms/step - loss: 0.5362 - accuracy: 0.7351\n",
      "Epoch 43/50\n",
      "11/11 [==============================] - 0s 2ms/step - loss: 0.5373 - accuracy: 0.7292\n",
      "Epoch 44/50\n",
      "11/11 [==============================] - 0s 2ms/step - loss: 0.5319 - accuracy: 0.7351\n",
      "Epoch 45/50\n",
      "11/11 [==============================] - 0s 2ms/step - loss: 0.5289 - accuracy: 0.7351\n",
      "Epoch 46/50\n",
      "11/11 [==============================] - 0s 2ms/step - loss: 0.5265 - accuracy: 0.7351\n",
      "Epoch 47/50\n",
      "11/11 [==============================] - 0s 2ms/step - loss: 0.5269 - accuracy: 0.7351\n",
      "Epoch 48/50\n",
      "11/11 [==============================] - 0s 2ms/step - loss: 0.5240 - accuracy: 0.7381\n",
      "Epoch 49/50\n",
      "11/11 [==============================] - 0s 2ms/step - loss: 0.5266 - accuracy: 0.7351\n",
      "Epoch 50/50\n",
      "11/11 [==============================] - 0s 2ms/step - loss: 0.5265 - accuracy: 0.7351\n"
     ]
    }
   ],
   "source": [
    "from tensorflow import keras\n",
    "model = keras.Sequential([\n",
    "    keras.layers.Dense(25, input_shape=(12,),activation='relu'),\n",
    "    keras.layers.Dense(45,activation='relu'),\n",
    "    keras.layers.Dense(55, activation='relu'),\n",
    "    keras.layers.Dense(65, activation='relu'),\n",
    "    keras.layers.Dense(75, activation='relu'),\n",
    "    keras.layers.Dense(85, activation='relu'),\n",
    "    keras.layers.Dense(1, activation='sigmoid')\n",
    "])\n",
    "# opt = keras.optimizers.Adam(learning_rate=0.01)\n",
    "model.compile(optimizer='Adam',\n",
    "              loss='binary_crossentropy',\n",
    "              metrics=['accuracy'])\n",
    "histroy = model.fit(x_smote, y_smote, epochs=50)"
   ]
  },
  {
   "cell_type": "code",
   "execution_count": 312,
   "metadata": {},
   "outputs": [],
   "source": [
    "yp = model.predict(X_test)\n",
    "y_pred = []\n",
    "for element in yp:\n",
    "    if element > 0.5:\n",
    "        y_pred.append(1)\n",
    "    else:\n",
    "        y_pred.append(0)"
   ]
  },
  {
   "cell_type": "code",
   "execution_count": 313,
   "metadata": {},
   "outputs": [
    {
     "name": "stdout",
     "output_type": "stream",
     "text": [
      "              precision    recall  f1-score   support\n",
      "\n",
      "           0       0.77      0.51      0.61        67\n",
      "           1       0.27      0.55      0.36        22\n",
      "\n",
      "    accuracy                           0.52        89\n",
      "   macro avg       0.52      0.53      0.49        89\n",
      "weighted avg       0.65      0.52      0.55        89\n",
      "\n"
     ]
    }
   ],
   "source": [
    "from sklearn.metrics import classification_report\n",
    "print(classification_report(y_test,y_pred))"
   ]
  },
  {
   "cell_type": "code",
   "execution_count": null,
   "metadata": {},
   "outputs": [],
   "source": []
  }
 ],
 "metadata": {
  "interpreter": {
   "hash": "bbd242ebb1ad9bbe1a3af56534948b3ce0c2363a8560ad41158052ba42d36a7a"
  },
  "kernelspec": {
   "display_name": "Python 3.8.5 64-bit",
   "language": "python",
   "name": "python3"
  },
  "language_info": {
   "codemirror_mode": {
    "name": "ipython",
    "version": 3
   },
   "file_extension": ".py",
   "mimetype": "text/x-python",
   "name": "python",
   "nbconvert_exporter": "python",
   "pygments_lexer": "ipython3",
   "version": "3.8.5"
  },
  "orig_nbformat": 4
 },
 "nbformat": 4,
 "nbformat_minor": 2
}
